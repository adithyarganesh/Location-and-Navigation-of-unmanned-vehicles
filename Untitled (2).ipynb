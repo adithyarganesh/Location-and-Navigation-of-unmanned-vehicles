{
 "cells": [
  {
   "cell_type": "code",
   "execution_count": 1,
   "metadata": {
    "collapsed": true
   },
   "outputs": [],
   "source": [
    "import json\n",
    "import math\n",
    "from json import encoder\n",
    "encoder.FLOAT_REPR = lambda o: format(o, '.2f')\n",
    "\n",
    "class base_station(object):\n",
    "    def __init__(self, lat, lon, dist):\n",
    "        self.lat = lat\n",
    "        self.lon = lon\n",
    "        self.dist = dist\n",
    "\n",
    "class point(object):\n",
    "    def __init__(self, x, y):\n",
    "        self.x = x\n",
    "        self.y = y\n",
    "\n",
    "class circle(object):\n",
    "    def __init__(self, point, radius):\n",
    "        self.center = point\n",
    "        self.radius = radius\n",
    "\n",
    "class json_data(object):\n",
    "    def __init__(self, circles, inner_points, center):\n",
    "        self.circles = circles\n",
    "        self.inner_points = inner_points\n",
    "        self.center = center\n",
    "    \n",
    "def serialize_instance(obj):\n",
    "    d = {}\n",
    "    d.update(vars(obj))\n",
    "    return d\n",
    "\n",
    "def get_two_points_distance(p1, p2):\n",
    "    return math.sqrt(pow((p1.x - p2.x), 2) + pow((p1.y - p2.y), 2))\n",
    "\n",
    "def get_two_circles_intersecting_points(c1, c2):\n",
    "    p1 = c1.center \n",
    "    p2 = c2.center\n",
    "    r1 = c1.radius\n",
    "    r2 = c2.radius\n",
    "\n",
    "    d = get_two_points_distance(p1, p2)\n",
    "    # if to far away, or self contained - can't be done\n",
    "    if d >= (r1 + r2) or d <= math.fabs(r1 -r2):\n",
    "        return None\n",
    "\n",
    "    a = (pow(r1, 2) - pow(r2, 2) + pow(d, 2)) / (2*d)\n",
    "    h  = math.sqrt(pow(r1, 2) - pow(a, 2))\n",
    "    x0 = p1.x + a*(p2.x - p1.x)/d \n",
    "    y0 = p1.y + a*(p2.y - p1.y)/d\n",
    "    rx = -(p2.y - p1.y) * (h/d)\n",
    "    ry = -(p2.x - p1.x) * (h / d)\n",
    "    return [point(x0+rx, y0-ry), point(x0-rx, y0+ry)]\n",
    "\n",
    "def get_all_intersecting_points(circles):\n",
    "    points = []\n",
    "    num = len(circles)\n",
    "    for i in range(num):\n",
    "        j = i + 1\n",
    "        for k in range(j, num):\n",
    "            res = get_two_circles_intersecting_points(circles[i], circles[k])\n",
    "            if res:\n",
    "                points.extend(res)\n",
    "    return points\n",
    "\n",
    "def is_contained_in_circles(point, circles):\n",
    "    for i in range(len(circles)):\n",
    "        if (get_two_points_distance(point, circles[i].center) > (circles[i].radius)):\n",
    "            return False\n",
    "    return True\n",
    "\n",
    "def get_polygon_center(points):\n",
    "    center = point(0, 0)\n",
    "    num = len(points)\n",
    "    for i in range(num):\n",
    "        center.x += points[i].x\n",
    "        center.y += points[i].y\n",
    "    center.x /= num\n",
    "    center.y /= num\n",
    "    return center"
   ]
  },
  {
   "cell_type": "code",
   "execution_count": 2,
   "metadata": {},
   "outputs": [
    {
     "name": "stdout",
     "output_type": "stream",
     "text": [
      "<__main__.point object at 0x0000017921DFD978>\n"
     ]
    }
   ],
   "source": [
    "\n",
    "p1 = point(5.5,0)\n",
    "p2 = point(16.5,0)\n",
    "p3 = point(0,5.5)\n",
    "\n",
    "c1 = circle(p1, 1000)\n",
    "c2 = circle(p2, 900)\n",
    "c3 = circle(p3, 900)\n",
    "\n",
    "circle_list = [c1, c2, c3]\n",
    "\n",
    "inner_points = []\n",
    "for p in get_all_intersecting_points(circle_list):\n",
    "    if is_contained_in_circles(p, circle_list):\n",
    "        inner_points.append(p) \n",
    "        \n",
    "center = get_polygon_center(inner_points)\n",
    "print(center)"
   ]
  },
  {
   "cell_type": "code",
   "execution_count": 8,
   "metadata": {},
   "outputs": [
    {
     "ename": "AttributeError",
     "evalue": "'point' object has no attribute 'point'",
     "output_type": "error",
     "traceback": [
      "\u001b[1;31m---------------------------------------------------------------------------\u001b[0m",
      "\u001b[1;31mAttributeError\u001b[0m                            Traceback (most recent call last)",
      "\u001b[1;32m<ipython-input-8-c0e645272495>\u001b[0m in \u001b[0;36m<module>\u001b[1;34m()\u001b[0m\n\u001b[1;32m----> 1\u001b[1;33m \u001b[0minner_points\u001b[0m\u001b[1;33m[\u001b[0m\u001b[1;36m0\u001b[0m\u001b[1;33m]\u001b[0m\u001b[1;33m.\u001b[0m\u001b[0mpoint\u001b[0m\u001b[1;33m(\u001b[0m\u001b[1;33m)\u001b[0m\u001b[1;33m\u001b[0m\u001b[0m\n\u001b[0m",
      "\u001b[1;31mAttributeError\u001b[0m: 'point' object has no attribute 'point'"
     ]
    }
   ],
   "source": []
  },
  {
   "cell_type": "code",
   "execution_count": 3,
   "metadata": {},
   "outputs": [
    {
     "ename": "TypeError",
     "evalue": "'point' object does not support indexing",
     "output_type": "error",
     "traceback": [
      "\u001b[1;31m---------------------------------------------------------------------------\u001b[0m",
      "\u001b[1;31mTypeError\u001b[0m                                 Traceback (most recent call last)",
      "\u001b[1;32m<ipython-input-3-dba85433f841>\u001b[0m in \u001b[0;36m<module>\u001b[1;34m()\u001b[0m\n\u001b[1;32m----> 1\u001b[1;33m \u001b[0mcenter\u001b[0m\u001b[1;33m[\u001b[0m\u001b[1;36m0\u001b[0m\u001b[1;33m]\u001b[0m\u001b[1;33m\u001b[0m\u001b[0m\n\u001b[0m",
      "\u001b[1;31mTypeError\u001b[0m: 'point' object does not support indexing"
     ]
    }
   ],
   "source": [
    "center[0]"
   ]
  }
 ],
 "metadata": {
  "kernelspec": {
   "display_name": "Python 3",
   "language": "python",
   "name": "python3"
  },
  "language_info": {
   "codemirror_mode": {
    "name": "ipython",
    "version": 3
   },
   "file_extension": ".py",
   "mimetype": "text/x-python",
   "name": "python",
   "nbconvert_exporter": "python",
   "pygments_lexer": "ipython3",
   "version": "3.6.1"
  }
 },
 "nbformat": 4,
 "nbformat_minor": 2
}
