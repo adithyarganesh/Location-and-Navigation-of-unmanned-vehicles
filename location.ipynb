{
 "cells": [
  {
   "cell_type": "code",
   "execution_count": 1,
   "metadata": {
    "collapsed": true
   },
   "outputs": [],
   "source": [
    "#trilateration using Machine Learning\n",
    "import numpy as np\n",
    "import matplotlib.pyplot as plt"
   ]
  },
  {
   "cell_type": "code",
   "execution_count": 2,
   "metadata": {
    "collapsed": true
   },
   "outputs": [],
   "source": [
    "#run the ML algorithm to get the distance values along with the locations\n",
    "points = [(5.5,0),(16.5,0),(0,11)]\n",
    "distance = [5,11,10]"
   ]
  },
  {
   "cell_type": "code",
   "execution_count": 3,
   "metadata": {
    "collapsed": true
   },
   "outputs": [],
   "source": [
    "import math\n",
    "\n",
    "PRECISION = 5  # Decimal point precision\n",
    "\n",
    "\n",
    "class Circle(object):\n",
    "    \"\"\" An OOP implementation of a circle as an object \"\"\"\n",
    "\n",
    "    def __init__(self, xposition, yposition, radius):\n",
    "        self.xpos = xposition\n",
    "        self.ypos = yposition\n",
    "        self.radius = radius\n",
    "        \n",
    "#     def nopoint(X1,X2,Y1,Y2,R1,R2):\n",
    "#         m = (Y2-Y1)/(X2-X1)\n",
    "#         r = math.sqrt(1-(m**2))\n",
    "#         I1 = X1 + R1/r, Y1 + (R1*m/r)\n",
    "#         I2 = X2 + R2/r, Y2 + (R2*m/r)\n",
    "#         return I1,I2\n",
    "    \n",
    "    def circle_intersect(self, circle2):\n",
    "        \"\"\"\n",
    "        Intersection points of two circles using the construction of triangles\n",
    "        as proposed by Paul Bourke, 1997.\n",
    "        http://paulbourke.net/geometry/circlesphere/\n",
    "        \"\"\"\n",
    "        X1, Y1 = self.xpos, self.ypos\n",
    "        X2, Y2 = circle2.xpos, circle2.ypos\n",
    "        R1, R2 = self.radius, circle2.radius\n",
    "\n",
    "        Dx = X2-X1\n",
    "        Dy = Y2-Y1\n",
    "        Dxx = Dx\n",
    "        Dyy = Dy\n",
    "        if Dx == 0:\n",
    "            Dxx = 0.00001\n",
    "        elif Dy == 0:\n",
    "            Dyy = 0.00001\n",
    "        else :\n",
    "            Dxx = Dx\n",
    "            Dyy = Dy\n",
    "        D = round(math.sqrt(Dx**2 + Dy**2), PRECISION)\n",
    "        m = Dy/Dx\n",
    "        r = math.sqrt(1+(m**2))\n",
    "        I1 = X1 + R1/r, Y1 + (R1*m/r)\n",
    "        I2 = X2 + R2/r, Y2 + (R2*m/r)\n",
    "        # Distance between circle centres\n",
    "        if D > R1 + R2:\n",
    "#             I1,I2 = nopoint(X1,X2,Y1,Y2,R1,R2)\n",
    "            CASE =  \"The circles do not intersect\"\n",
    "        elif D < math.fabs(R2 - R1):\n",
    "#             I1,I2 = nopoint(X1,X2,Y1,Y2,R1,R2)\n",
    "            CASE =  \"No Intersect - One circle is contained within the other\"\n",
    "\n",
    "        elif D == 0 and R1 == R2:\n",
    "#             I1,I2 = nopoint(X1,X2,Y1,Y2,R1,R2)\n",
    "            CASE =  \"No Intersect - The circles are equal and coincident\"\n",
    "            \n",
    "        else:\n",
    "            if D == R1 + R2 or D == R1 - R2:\n",
    "                CASE = \"The circles intersect at a single point\"\n",
    "            else:\n",
    "                CASE = \"The circles intersect at two points\"\n",
    "            chorddistance = (R1**2 - R2**2 + D**2)/(2*D)\n",
    "            # distance from 1st circle's centre to the chord between intersects\n",
    "            halfchordlength = math.sqrt(R1**2 - chorddistance**2)\n",
    "            chordmidpointx = X1 + (chorddistance*Dx)/D\n",
    "            chordmidpointy = Y1 + (chorddistance*Dy)/D\n",
    "            I1 = (round(chordmidpointx + (halfchordlength*Dy)/D, PRECISION),\n",
    "                  round(chordmidpointy - (halfchordlength*Dx)/D, PRECISION))\n",
    "            theta1 = round(math.degrees(math.atan2(I1[1]-Y1, I1[0]-X1)),\n",
    "                           PRECISION)\n",
    "            I2 = (round(chordmidpointx - (halfchordlength*Dy)/D, PRECISION),\n",
    "                  round(chordmidpointy + (halfchordlength*Dx)/D, PRECISION))\n",
    "            theta2 = round(math.degrees(math.atan2(I2[1]-Y1, I2[0]-X1)),\n",
    "                           PRECISION)\n",
    "            if theta2 > theta1:\n",
    "                I1, I2 = I2, I1\n",
    "        return (I1, I2)\n"
   ]
  },
  {
   "cell_type": "code",
   "execution_count": 4,
   "metadata": {
    "collapsed": true
   },
   "outputs": [],
   "source": [
    "# C1 = Circle(0, 5.5, 9.5)\n",
    "# C2 = Circle(0.1,16.5, 8)\n",
    "# C1.circle_intersect(C2)\n"
   ]
  },
  {
   "cell_type": "code",
   "execution_count": 5,
   "metadata": {
    "collapsed": true
   },
   "outputs": [],
   "source": [
    "# C1 = Circle(0, 5.5, 9.5)\n",
    "# C2 = Circle(0.1,16.5, 8)\n",
    "# C1.circle_intersect(C2)"
   ]
  },
  {
   "cell_type": "code",
   "execution_count": 6,
   "metadata": {
    "collapsed": true
   },
   "outputs": [],
   "source": [
    "# C1 = Circle(0, 0, 350)\n",
    "# C2 = Circle(-130, 120, 250)\n",
    "\n",
    "# print(C1.circle_intersect(C2))"
   ]
  },
  {
   "cell_type": "code",
   "execution_count": null,
   "metadata": {
    "collapsed": true
   },
   "outputs": [],
   "source": []
  },
  {
   "cell_type": "code",
   "execution_count": 7,
   "metadata": {
    "collapsed": true
   },
   "outputs": [],
   "source": [
    "i=0\n",
    "intersection = []\n",
    "pt = []\n",
    "while i < len(points)-1:\n",
    "    x,y = points[i]\n",
    "    d = distance[i]\n",
    "    C1 = Circle(x,y,d)\n",
    "    j=i+1\n",
    "    while j < len(points):\n",
    "        x,y = points[j]\n",
    "        d = distance[j]\n",
    "        C2 = Circle(x,y,d)\n",
    "        I1,I2 = C1.circle_intersect(C2)\n",
    "        intersection.append(I1)\n",
    "        intersection.append(I2)\n",
    "        j = j+1\n",
    "    i = i+1"
   ]
  },
  {
   "cell_type": "code",
   "execution_count": 8,
   "metadata": {
    "collapsed": true
   },
   "outputs": [],
   "source": [
    "# intersection"
   ]
  },
  {
   "cell_type": "code",
   "execution_count": 9,
   "metadata": {},
   "outputs": [
    {
     "data": {
      "text/plain": [
       "(-6.3250000000000002,\n",
       " 22.824999999999999,\n",
       " -6.0499999999999998,\n",
       " 17.050000000000001)"
      ]
     },
     "execution_count": 9,
     "metadata": {},
     "output_type": "execute_result"
    }
   ],
   "source": [
    "import pylab\n",
    "axes = pylab.axes()\n",
    "for i in points:\n",
    "    circle = pylab.Circle(i, distance[0], alpha=.4)\n",
    "    axes.add_patch(circle)\n",
    "\n",
    "pylab.axis('scaled')\n",
    "\n",
    "#pylab.show()\n"
   ]
  },
  {
   "cell_type": "code",
   "execution_count": 10,
   "metadata": {
    "collapsed": true
   },
   "outputs": [],
   "source": [
    "\n",
    "# circle1 = plt.Circle( color='r')\n",
    "# circle2 = plt.Circle( color='blue')\n",
    "# circle3 = plt.Circle( clip_on=False)\n",
    "\n",
    "#fig, ax = plt.subplots() # note we must use plt.subplots, not plt.subplot\n",
    "# (or if you have an existing figure)\n",
    "# fig = plt.gcf()\n",
    "# ax = fig.gca()\n",
    "\n",
    "# ax.add_artist(circle1)\n",
    "# ax.add_artist(circle2)\n",
    "# ax.add_artist(circle3)\n",
    "# plt.show()"
   ]
  },
  {
   "cell_type": "code",
   "execution_count": 11,
   "metadata": {
    "collapsed": true
   },
   "outputs": [],
   "source": [
    "# from sklearn.neighbors import NearestNeighbors\n",
    "# X = np.array([[-1, -1], [-2, -1], [-3, -2], [1, 1], [2, 1], [3, 2]])\n",
    "# x = []\n",
    "# y = []\n",
    "# for i in X:\n",
    "#     a,b = i\n",
    "#     x.append(a)\n",
    "#     y.append(b)\n",
    "# plt.scatter(x,y)\n",
    "# nbrs = NearestNeighbors(n_neighbors=2, algorithm='ball_tree').fit(X)\n",
    "# distances, indices = nbrs.kneighbors(X)\n",
    "# plt.show()        "
   ]
  },
  {
   "cell_type": "code",
   "execution_count": 23,
   "metadata": {},
   "outputs": [
    {
     "data": {
      "image/png": "[encoded data removed]",
      "text/plain": [
       "<matplotlib.figure.Figure at 0x2084a86a0f0>"
      ]
     },
     "metadata": {},
     "output_type": "display_data"
    }
   ],
   "source": [
    "from sklearn.cluster import KMeans\n",
    "import numpy as np\n",
    "# X = np.array([[-1, -1], [-2, -1], [-3, -2], [1, 1], [2, 1], [3, 2]])\n",
    "# X = np.array([[1, 2], [1, 4], [1, 0],[4, 2], [4, 4], [4, 0]])\n",
    "xx = []\n",
    "yy = []\n",
    "for i in intersection:\n",
    "    a,b = i\n",
    "    xx.append(a)\n",
    "    yy.append(b)\n",
    "plt.scatter(xx,yy)\n",
    "np.random.shuffle(intersection)\n",
    "kmeans = KMeans(n_clusters=4, random_state=42).fit(intersection)\n",
    "\n",
    "plt.show()\n",
    "a1 = kmeans.cluster_centers_\n",
    "\n",
    "kmeans = KMeans(n_clusters=1, random_state=42).fit(intersection)\n",
    "\n",
    "b = kmeans.cluster_centers_"
   ]
  },
  {
   "cell_type": "code",
   "execution_count": 13,
   "metadata": {},
   "outputs": [
    {
     "name": "stdout",
     "output_type": "stream",
     "text": [
      "1\n",
      "[ 6.71806333  4.10629333]\n"
     ]
    }
   ],
   "source": [
    "from scipy.spatial import distance\n",
    "euclidean = []\n",
    "for i in a1:\n",
    "    euclidean.append(distance.euclidean(i,b))\n",
    "ind = euclidean.index(min(euclidean))\n",
    "print(ind)\n",
    "print(a1[ind])"
   ]
  },
  {
   "cell_type": "code",
   "execution_count": 14,
   "metadata": {
    "collapsed": true,
    "scrolled": true
   },
   "outputs": [],
   "source": [
    "# from sklearn.cluster import DBSCAN\n",
    "# dbscan = DBSCAN()\n",
    "# dbscan.fit(intersection)\n",
    "\n",
    "\n",
    "# for i in range(0, pca_2d.shape[0]):\n",
    "#     if dbscan.labels_[i] == 0:\n",
    "#         c1 = plt.scatter(pca_2d[i,0],pca_2d[i,1],c='r',marker='+')\n",
    "#     elif dbscan.labels_[i] == -1:\n",
    "#         c3 = plt.scatter(pca_2d[i,0],pca_2d[i,1],c='b',marker='*')\n",
    "# plt.legend([c1, c3], ['Cluster 1','Noise'])\n",
    "# plt.show()"
   ]
  },
  {
   "cell_type": "code",
   "execution_count": 15,
   "metadata": {
    "collapsed": true
   },
   "outputs": [],
   "source": [
    "# dbscan = DBSCAN(min_samples = 1, eps=0.3, leaf_size=1)\n",
    "# dbscan.fit(intersection)"
   ]
  },
  {
   "cell_type": "code",
   "execution_count": 16,
   "metadata": {
    "collapsed": true
   },
   "outputs": [],
   "source": [
    "# labels = dbscan.labels_\n",
    "\n",
    "# Number of clusters in labels, ignoring noise if present.\n",
    "# n_clusters_ = len(set(labels)) - (1 if -1 in labels else 0)"
   ]
  },
  {
   "cell_type": "code",
   "execution_count": 17,
   "metadata": {
    "collapsed": true
   },
   "outputs": [],
   "source": [
    "# from sklearn.decomposition import PCA\n",
    "# pca = PCA(n_components=1).fit(intersection)\n",
    "# pca_2d = pca.transform(intersection)"
   ]
  },
  {
   "cell_type": "code",
   "execution_count": 18,
   "metadata": {
    "collapsed": true
   },
   "outputs": [],
   "source": [
    "# pca_2d.shape[0]"
   ]
  },
  {
   "cell_type": "code",
   "execution_count": 25,
   "metadata": {},
   "outputs": [
    {
     "data": {
      "image/png": "[encoded data removed]",
      "text/plain": [
       "<matplotlib.figure.Figure at 0x2084adf6e80>"
      ]
     },
     "metadata": {},
     "output_type": "display_data"
    },
    {
     "name": "stdout",
     "output_type": "stream",
     "text": [
      "4\n",
      "[ 5.89535  2.92257]\n"
     ]
    },
    {
     "data": {
      "image/png": "[encoded data removed]",
      "text/plain": [
       "<matplotlib.figure.Figure at 0x2084ae5e390>"
      ]
     },
     "metadata": {},
     "output_type": "display_data"
    }
   ],
   "source": [
    "# k means determine k\n",
    "from scipy.spatial.distance import cdist\n",
    "X = np.array(intersection)\n",
    "distortions = []\n",
    "K = range(1,len(intersection))\n",
    "for k in K:\n",
    "    kmeanModel = KMeans(n_clusters=k).fit(X)\n",
    "    kmeanModel.fit(X)\n",
    "    distortions.append(sum(np.min(cdist(X, kmeanModel.cluster_centers_, 'euclidean'), axis=1)) / X.shape[0])\n",
    " \n",
    "# Plot the elbow\n",
    "plt.plot(K, distortions, 'bx-')\n",
    "plt.xlabel('k')\n",
    "plt.ylabel('Distortion')\n",
    "plt.title('The Elbow Method showing the optimal k')\n",
    "plt.show()\n",
    "a = kmeanModel.cluster_centers_\n",
    "\n",
    "kmeans = KMeans(n_clusters=1, random_state=42).fit(intersection)\n",
    "\n",
    "b = kmeans.cluster_centers_\n",
    "euclidean = []\n",
    "for i in a:\n",
    "    euclidean.append(distance.euclidean(i,b))\n",
    "ind = euclidean.index(min(euclidean))\n",
    "print(ind)\n",
    "print(a[ind])\n",
    "\n",
    "plt.scatter(xx,yy)\n",
    "plt.scatter(5.89535 ,2.92257)\n",
    "plt.scatter(6.71806333 , 4.10629333)\n",
    "plt.show()"
   ]
  },
  {
   "cell_type": "code",
   "execution_count": 20,
   "metadata": {},
   "outputs": [
    {
     "data": {
      "image/png": "[encoded data removed]",
      "text/plain": [
       "<matplotlib.figure.Figure at 0x2084ad7b160>"
      ]
     },
     "metadata": {},
     "output_type": "display_data"
    }
   ],
   "source": [
    "x = []\n",
    "y = []\n",
    "for i in a:\n",
    "    a1,b = i\n",
    "    x.append(a1)\n",
    "    y.append(b)\n",
    "plt.scatter(x,y)\n",
    "plt.scatter(6.18647833,2.85547667)\n",
    "plt.scatter(xx,yy)\n",
    "\n",
    "plt.scatter(6.71806333,  4.10629333)\n",
    "\n",
    "plt.show()"
   ]
  },
  {
   "cell_type": "code",
   "execution_count": 21,
   "metadata": {},
   "outputs": [
    {
     "data": {
      "text/plain": [
       "array([[ 5.89535 ,  2.92257 ],\n",
       "       [ 9.72353 ,  8.66484 ],\n",
       "       [ 6.63636 , -4.86916 ],\n",
       "       [ 0.60479 ,  1.0183  ],\n",
       "       [ 7.12942 ,  4.698155]])"
      ]
     },
     "execution_count": 21,
     "metadata": {},
     "output_type": "execute_result"
    }
   ],
   "source": [
    "a"
   ]
  }
 ],
 "metadata": {
  "kernelspec": {
   "display_name": "Python 3",
   "language": "python",
   "name": "python3"
  },
  "language_info": {
   "codemirror_mode": {
    "name": "ipython",
    "version": 3
   },
   "file_extension": ".py",
   "mimetype": "text/x-python",
   "name": "python",
   "nbconvert_exporter": "python",
   "pygments_lexer": "ipython3",
   "version": "3.6.1"
  }
 },
 "nbformat": 4,
 "nbformat_minor": 2
}
